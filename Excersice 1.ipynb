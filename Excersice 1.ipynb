{
 "cells": [
  {
   "cell_type": "markdown",
   "metadata": {},
   "source": [
    "# Python Exercises, practice"
   ]
  },
  {
   "cell_type": "markdown",
   "metadata": {},
   "source": [
    "## Student 1: Jorge Eliecer Lievano Solis\n",
    "## Student 2: "
   ]
  },
  {
   "cell_type": "markdown",
   "metadata": {},
   "source": [
    "### Excersice 1\n",
    "print hello world"
   ]
  },
  {
   "cell_type": "code",
   "execution_count": 1,
   "metadata": {},
   "outputs": [
    {
     "name": "stdout",
     "output_type": "stream",
     "text": [
      "hello world\n"
     ]
    }
   ],
   "source": [
    "print(\"hello world\")"
   ]
  },
  {
   "cell_type": "markdown",
   "metadata": {},
   "source": [
    "### Excersice 2\n",
    "Let's create a variable with the name variable and assign it the value \"hello world\"."
   ]
  },
  {
   "cell_type": "code",
   "execution_count": 2,
   "metadata": {},
   "outputs": [],
   "source": [
    "variable=\"hello world\""
   ]
  },
  {
   "cell_type": "markdown",
   "metadata": {},
   "source": [
    "### Excersice 3\n",
    "Print the type of variable"
   ]
  },
  {
   "cell_type": "code",
   "execution_count": 3,
   "metadata": {},
   "outputs": [
    {
     "name": "stdout",
     "output_type": "stream",
     "text": [
      "<class 'str'>\n"
     ]
    }
   ],
   "source": [
    "print(type(variable))"
   ]
  },
  {
   "cell_type": "markdown",
   "metadata": {},
   "source": [
    "### Excersice 4\n",
    "Let's remove the word \" world\" from variable"
   ]
  },
  {
   "cell_type": "code",
   "execution_count": 4,
   "metadata": {},
   "outputs": [
    {
     "data": {
      "text/plain": [
       "'hello '"
      ]
     },
     "execution_count": 4,
     "metadata": {},
     "output_type": "execute_result"
    }
   ],
   "source": [
    "variable.replace(\"world\",\"\")"
   ]
  },
  {
   "cell_type": "markdown",
   "metadata": {},
   "source": [
    "### Excersice 5\n",
    "Let's make a function which receives a list of number from 1 to 20 and prints only the number that are odd."
   ]
  },
  {
   "cell_type": "code",
   "execution_count": 1,
   "metadata": {},
   "outputs": [
    {
     "name": "stdout",
     "output_type": "stream",
     "text": [
      "1\n",
      "3\n",
      "5\n",
      "7\n",
      "9\n",
      "11\n",
      "13\n",
      "15\n",
      "17\n",
      "19\n"
     ]
    }
   ],
   "source": [
    "def odd_in_list(a_nelist):\n",
    "    for i in a_nelist :\n",
    "        if (i%2!=0):\n",
    "            print(i)\n",
    "        \n",
    "a_list=list(range(1,21))\n",
    "\n",
    "odd_in_list(a_list)"
   ]
  },
  {
   "cell_type": "markdown",
   "metadata": {},
   "source": [
    "### Excersice 6\n",
    "Let's make a method in a Python file which receives two parameters:\n",
    "\n",
    "A list of integers\n",
    "An exponent number\n",
    "$b^{n} = b \\times \\dots \\times b$\n",
    "\n",
    "The method allows us to calculate the exponentiation of each number in the list.\n",
    "\n",
    "We must import the file and use it to call the method"
   ]
  },
  {
   "cell_type": "code",
   "execution_count": 9,
   "metadata": {},
   "outputs": [
    {
     "name": "stdout",
     "output_type": "stream",
     "text": [
      "[1, 4, 9, 16, 25, 36]\n"
     ]
    }
   ],
   "source": [
    "import pow_list\n",
    "integer_list=[1,2,3,4,5,6]\n",
    "exponent=2\n",
    "\n",
    "print(pow_list.pow_all_in_list(integer_list,exponent))\n",
    "\n"
   ]
  },
  {
   "cell_type": "markdown",
   "metadata": {},
   "source": [
    "### Excersice 7\n",
    "The idea is to do a dictionary diccionario with the next keys and values:\n",
    "\n",
    "variableUno: [1,2,3,4]\n",
    "\n",
    "variableDos: [\"1\",\"a\",\"?\"]"
   ]
  },
  {
   "cell_type": "code",
   "execution_count": 4,
   "metadata": {},
   "outputs": [
    {
     "name": "stdout",
     "output_type": "stream",
     "text": [
      "{'Variable Uno': [1, 2, 3, 4], 'Variable Dos': ['1', 'a', '?']}\n"
     ]
    }
   ],
   "source": [
    "variableUnoKey=\"Variable Uno\"\n",
    "variableDosKey=\"Variable Dos\"\n",
    "variableUnoValues = [1,2,3,4]\n",
    "variableDosValues = [\"1\",\"a\",\"?\"]\n",
    "diccionario={variableUnoKey:variableUnoValues,variableDosKey:variableDosValues}\n",
    "print(diccionario)\n"
   ]
  },
  {
   "cell_type": "markdown",
   "metadata": {},
   "source": [
    "### Excersice 8\n",
    "Change the first letter of \"Spam\" to \"z\""
   ]
  },
  {
   "cell_type": "code",
   "execution_count": 2,
   "metadata": {},
   "outputs": [
    {
     "data": {
      "text/plain": [
       "'Zpam'"
      ]
     },
     "execution_count": 2,
     "metadata": {},
     "output_type": "execute_result"
    }
   ],
   "source": [
    "cadena=\"Spam\"\n",
    "cadena.replace(\"S\",\"Z\",1)"
   ]
  },
  {
   "cell_type": "markdown",
   "metadata": {},
   "source": [
    "### Excersice 9\n",
    "let's do a program which receives some parameters in order to calculate the perimeter of a rectangle.\n",
    "\n",
    "$p = 2x + 2y$"
   ]
  },
  {
   "cell_type": "code",
   "execution_count": 4,
   "metadata": {
    "scrolled": true
   },
   "outputs": [
    {
     "name": "stdout",
     "output_type": "stream",
     "text": [
      "A continuación debera ingresar el largo y ancho del rectangulo cuyo perimetro desea calcular\n",
      "ingresa el valor numerico del largo 8\n",
      "ingresa el valor numerico del ancho 6\n"
     ]
    },
    {
     "data": {
      "text/plain": [
       "28"
      ]
     },
     "execution_count": 4,
     "metadata": {},
     "output_type": "execute_result"
    }
   ],
   "source": [
    "def rectangle_perimeter(x_lenght,y_width):\n",
    "    p=2*(int(x_lenght) + int(y_width))\n",
    "    return p\n",
    "\n",
    "print(\"A continuación debera ingresar el largo y ancho del rectangulo cuyo perimetro desea calcular\")\n",
    "x=input(\"ingresa el valor numerico del largo \")\n",
    "y=input(\"ingresa el valor numerico del ancho \")\n",
    "rectangle_perimeter(x,y)"
   ]
  },
  {
   "cell_type": "markdown",
   "metadata": {},
   "source": [
    "### Excersice 10\n",
    "Create a class that saves the name of a person, his height in meters and weights in kilograms.\n",
    "This class must have a operation which calculate the Body mass index (BMI).\n",
    "Define a list of 5 persons and print their BMI."
   ]
  },
  {
   "cell_type": "code",
   "execution_count": 6,
   "metadata": {},
   "outputs": [
    {
     "name": "stdout",
     "output_type": "stream",
     "text": [
      "Pedro has a BMI = 21.604938271604937\n",
      "Pablo has a BMI = 22.20408163265306\n",
      "Luis has a BMI = 23.529411764705884\n",
      "Hugo has a BMI = 29.296874999999993\n",
      "Paco has a BMI = 20.761245674740486\n"
     ]
    }
   ],
   "source": [
    "class Person:\n",
    "   \n",
    "    def __init__(self,a_name,an_height,a_weights):\n",
    "        self.name=str(a_name)\n",
    "        self.height=float(an_height)\n",
    "        self.weights=float(a_weights)\n",
    "        \n",
    "    def BMI(self):\n",
    "        return self.weights/(self.height**2)\n",
    "    \n",
    "    def get_Name(self):\n",
    "        return self.name\n",
    "    \n",
    "    \n",
    "\n",
    "persons_list=[Person(\"Pedro\",1.80,70),Person(\"Pablo\",1.75,68),Person(\"Luis\",1.70,68),Person(\"Hugo\",1.60,75),Person(\"Paco\",1.70,60)]\n",
    "\n",
    "for person in persons_list:\n",
    "    result= \"{} has a BMI = {}\".format(person.get_Name(),person.BMI())\n",
    "    print(result)"
   ]
  },
  {
   "cell_type": "markdown",
   "metadata": {},
   "source": [
    "### Excersice 11\n",
    "make a program that prints the numbers from 1 to 100 If the number is divisible by 2 then print \"whiz\" if the number is divisible by 3 then print \"bang\""
   ]
  },
  {
   "cell_type": "code",
   "execution_count": 5,
   "metadata": {},
   "outputs": [
    {
     "name": "stdout",
     "output_type": "stream",
     "text": [
      "1  \n",
      "2 Whiz \n",
      "3  bang\n",
      "4 Whiz \n",
      "5  \n",
      "6 Whiz bang\n",
      "7  \n",
      "8 Whiz \n",
      "9  bang\n",
      "10 Whiz \n",
      "11  \n",
      "12 Whiz bang\n",
      "13  \n",
      "14 Whiz \n",
      "15  bang\n",
      "16 Whiz \n",
      "17  \n",
      "18 Whiz bang\n",
      "19  \n",
      "20 Whiz \n",
      "21  bang\n",
      "22 Whiz \n",
      "23  \n",
      "24 Whiz bang\n",
      "25  \n",
      "26 Whiz \n",
      "27  bang\n",
      "28 Whiz \n",
      "29  \n",
      "30 Whiz bang\n",
      "31  \n",
      "32 Whiz \n",
      "33  bang\n",
      "34 Whiz \n",
      "35  \n",
      "36 Whiz bang\n",
      "37  \n",
      "38 Whiz \n",
      "39  bang\n",
      "40 Whiz \n",
      "41  \n",
      "42 Whiz bang\n",
      "43  \n",
      "44 Whiz \n",
      "45  bang\n",
      "46 Whiz \n",
      "47  \n",
      "48 Whiz bang\n",
      "49  \n",
      "50 Whiz \n",
      "51  bang\n",
      "52 Whiz \n",
      "53  \n",
      "54 Whiz bang\n",
      "55  \n",
      "56 Whiz \n",
      "57  bang\n",
      "58 Whiz \n",
      "59  \n",
      "60 Whiz bang\n",
      "61  \n",
      "62 Whiz \n",
      "63  bang\n",
      "64 Whiz \n",
      "65  \n",
      "66 Whiz bang\n",
      "67  \n",
      "68 Whiz \n",
      "69  bang\n",
      "70 Whiz \n",
      "71  \n",
      "72 Whiz bang\n",
      "73  \n",
      "74 Whiz \n",
      "75  bang\n",
      "76 Whiz \n",
      "77  \n",
      "78 Whiz bang\n",
      "79  \n",
      "80 Whiz \n",
      "81  bang\n",
      "82 Whiz \n",
      "83  \n",
      "84 Whiz bang\n",
      "85  \n",
      "86 Whiz \n",
      "87  bang\n",
      "88 Whiz \n",
      "89  \n",
      "90 Whiz bang\n",
      "91  \n",
      "92 Whiz \n",
      "93  bang\n",
      "94 Whiz \n",
      "95  \n",
      "96 Whiz bang\n",
      "97  \n",
      "98 Whiz \n",
      "99  bang\n",
      "100 Whiz \n"
     ]
    }
   ],
   "source": [
    "lista= list(range(1,101))\n",
    "whiz=\"Whiz\"\n",
    "bang=\"bang\"\n",
    "\n",
    "for i in lista:\n",
    "    wordOne=\"\"\n",
    "    wordTwo=\"\"\n",
    "    if(i%2==0):\n",
    "        wordOne=whiz\n",
    "    if(i%3==0):\n",
    "        wordTwo=bang\n",
    "        \n",
    "    result= str(i) + \" {} {}\".format(wordOne,wordTwo)\n",
    "    print(result)"
   ]
  }
 ],
 "metadata": {
  "kernelspec": {
   "display_name": "Python 3",
   "language": "python",
   "name": "python3"
  },
  "language_info": {
   "codemirror_mode": {
    "name": "ipython",
    "version": 3
   },
   "file_extension": ".py",
   "mimetype": "text/x-python",
   "name": "python",
   "nbconvert_exporter": "python",
   "pygments_lexer": "ipython3",
   "version": "3.7.3"
  }
 },
 "nbformat": 4,
 "nbformat_minor": 2
}
