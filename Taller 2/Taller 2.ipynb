{
 "cells": [
  {
   "cell_type": "markdown",
   "metadata": {},
   "source": [
    "# MNIST (dígitos) solución tradicional\n",
    "\n",
    "### Integrantes:\n",
    "\n",
    "Nombre:\n",
    "Nombre:\n",
    "### Números asignados: 7 y 9\n",
    "\n",
    "## Taller\n",
    "Suponga que trabajan para el desarrollo de un sistema de lectura y reconocimiento de dígitos. Para este trabajo le han proporcionado un conjunto de fotos en grises con el fin que proponga una solución de programación tradicional, es decir, sin el uso de la inteligencia artificial. El software que proponga debe tener la capacidad de determinar con una precisión una muestra de los datos que le han suministrado\n",
    "\n",
    "Durante la clase se le proporcionaran dos números para trabajar:\n",
    "\n",
    "1 y 5\n",
    "8 y 2\n",
    "9 y 7\n",
    "0 y 3\n",
    "4 y 6\n",
    "\n",
    "### Evaluación del método\n",
    "\n",
    "Seleccione aleatoriamente una muestra de 30% de los datos, en donde se incluya un balance entre los dígitos asignados (despliéguelo y evidencie las cantidades).\n",
    "\n",
    "Utilice la muestra obtenida y evalué el software (proceso o métodos) que ha propuesto, es decir, a cuantos números acertó (VP) contra los que no acertó (FP), calcule los siguientes datos:\n",
    "\n",
    "Para el primer número\n",
    "\n",
    "Reales =  número de datos\n",
    "\n",
    "Estimados = cantidad de dígitos estimados correctamente \n",
    "\n",
    "Para el segundo número\n",
    "\n",
    "Reales =  número de datos\n",
    "\n",
    "Estimados = cantidad de dígitos estimados correctamente\n",
    "\n",
    "Para todos los números que le corresponden\n",
    "\n",
    "$ Precision = \\frac{VP}{VP+FP}$\n",
    "\n",
    "Finalmente, despliegue el tiempo que tomo todo el proceso de evaluación.\n",
    "\n",
    "#### Entregas\n",
    "Prepare una presentación donde muestre los resultados\n",
    "Envié por un correo electrónico este archivo ipynb con la solución y resultados conseguidos"
   ]
  },
  {
   "cell_type": "markdown",
   "metadata": {},
   "source": [
    "## Paquetes"
   ]
  },
  {
   "cell_type": "code",
   "execution_count": 2,
   "metadata": {},
   "outputs": [],
   "source": [
    "from sklearn.datasets import load_digits\n",
    "import pylab as pl\n",
    "import sklearn"
   ]
  },
  {
   "cell_type": "code",
   "execution_count": 26,
   "metadata": {},
   "outputs": [
    {
     "data": {
      "text/plain": [
       "sklearn.utils.Bunch"
      ]
     },
     "execution_count": 26,
     "metadata": {},
     "output_type": "execute_result"
    }
   ],
   "source": [
    "# cargamos los datos y desplegamos el objeto\n",
    "digits = load_digits()\n",
    "type(digits)"
   ]
  },
  {
   "cell_type": "markdown",
   "metadata": {},
   "source": [
    "## Exploración de los recursos"
   ]
  },
  {
   "cell_type": "code",
   "execution_count": 4,
   "metadata": {},
   "outputs": [],
   "source": [
    "# observe las propieades del objeto, ¿a que tipo se le parece?\n",
    "?sklearn.utils.Bunch"
   ]
  },
  {
   "cell_type": "code",
   "execution_count": 184,
   "metadata": {
    "scrolled": false
   },
   "outputs": [
    {
     "name": "stdout",
     "output_type": "stream",
     "text": [
      "[[ 0.  0.  7.  8. 13. 16. 15.  1.]\n",
      " [ 0.  0.  7.  7.  4. 11. 12.  0.]\n",
      " [ 0.  0.  0.  0.  8. 13.  1.  0.]\n",
      " [ 0.  4.  8.  8. 15. 15.  6.  0.]\n",
      " [ 0.  2. 11. 15. 15.  4.  0.  0.]\n",
      " [ 0.  0.  0. 16.  5.  0.  0.  0.]\n",
      " [ 0.  0.  9. 15.  1.  0.  0.  0.]\n",
      " [ 0.  0. 13.  5.  0.  0.  0.  0.]]\n"
     ]
    },
    {
     "data": {
      "text/plain": [
       "<Figure size 432x288 with 0 Axes>"
      ]
     },
     "metadata": {},
     "output_type": "display_data"
    },
    {
     "data": {
      "image/png": "[encoded data removed]",
      "text/plain": [
       "<Figure size 288x288 with 1 Axes>"
      ]
     },
     "metadata": {
      "needs_background": "light"
     },
     "output_type": "display_data"
    }
   ],
   "source": [
    "pl.gray() # Queremos las imágenes en grises\n",
    "prueba=digits.images[7]\n",
    "pl.matshow(prueba) # Imprimir una imagen dada\n",
    "print(prueba) # Ver la representacion en pixeles\n",
    "\n"
   ]
  },
  {
   "cell_type": "markdown",
   "metadata": {},
   "source": [
    "## Solución\n",
    "\n",
    "\n",
    "Se decidió implementar un metodo basado en la probabilidad para verificar si una imagen de los datos\n"
   ]
  },
  {
   "cell_type": "code",
   "execution_count": 58,
   "metadata": {},
   "outputs": [],
   "source": [
    "import numpy\n",
    "import random\n",
    "import time"
   ]
  },
  {
   "cell_type": "code",
   "execution_count": 185,
   "metadata": {},
   "outputs": [],
   "source": [
    "# matriz modelo para el número siete\n",
    "\n",
    "modelo_siete=[\n",
    "    [0,0,16,16,16,16,16,0],\n",
    "    [0,0,0,0,16,16,16,0],\n",
    "    [0,0,0,0,0,16,16,0],\n",
    "    [0,0,0,0,16,16,0,0],\n",
    "    [0,16,16,16,16,16,16,0],\n",
    "    [0,0,0,16,16,0,0,0],\n",
    "    [0,0,16,16,0,0,0,0],\n",
    "    [0,0,16,16,0,0,0,0]\n",
    "]\n",
    "\n",
    "\n",
    "# matriz modelo para el número nueve\n",
    "modelo_nueve=[\n",
    "    [0,0,0,0,16,0,0,0],\n",
    "    [0,0,16,16,16,16,0,0],\n",
    "    [0,0,16,0,0,16,0,0],\n",
    "    [0,0,16,0,0,16,0,0],\n",
    "    [0,0,0,16,16,16,0,0],\n",
    "    [0,0,0,0,16,16,0,0],\n",
    "    [0,0,0,16,16,0,0,0],\n",
    "    [0,0,16,16,0,0,0,0]\n",
    "]"
   ]
  },
  {
   "cell_type": "code",
   "execution_count": 10,
   "metadata": {},
   "outputs": [],
   "source": [
    "def filtro(numero):\n",
    "    diccionario={}\n",
    "    for i,j in enumerate(digits.target):\n",
    "        if (digits.target[i]==numero):\n",
    "            diccionario [i]=digits.images[i]\n",
    "    return diccionario\n",
    "    \n"
   ]
  },
  {
   "cell_type": "code",
   "execution_count": 31,
   "metadata": {},
   "outputs": [],
   "source": [
    "# metodo para dejar cada pixel como blanco(16) o negro(0) sin valores medios grises\n",
    "#valor_inflexion valor a partir del cual se considerara un pixel como blanco\n",
    "def normalizar(matriz,valor_inflexion):\n",
    "    matriz_norm= numpy.zeros((8,8))\n",
    "    for f in range(len(matriz)):\n",
    "        for c in range(len(matriz[f])):\n",
    "            if (matriz[f][c]>= valor_inflexion):\n",
    "                matriz_norm[f][c]=16\n",
    "            else:\n",
    "                matriz_norm[f][c]=0\n",
    "    return matriz_norm"
   ]
  },
  {
   "cell_type": "code",
   "execution_count": 48,
   "metadata": {
    "scrolled": true
   },
   "outputs": [
    {
     "data": {
      "text/plain": [
       "array([[ 0.,  0.,  0.,  0., 16.,  0.,  0.,  0.],\n",
       "       [ 0.,  0.,  0., 16., 16., 16.,  0.,  0.],\n",
       "       [ 0.,  0., 16., 16., 16.,  0.,  0.,  0.],\n",
       "       [ 0.,  0., 16., 16., 16.,  0.,  0.,  0.],\n",
       "       [ 0.,  0.,  0.,  0., 16.,  0.,  0.,  0.],\n",
       "       [ 0.,  0.,  0.,  0., 16.,  0.,  0.,  0.],\n",
       "       [ 0.,  0.,  0.,  0., 16.,  0.,  0.,  0.],\n",
       "       [ 0.,  0.,  0.,  0., 16., 16.,  0.,  0.]])"
      ]
     },
     "execution_count": 48,
     "metadata": {},
     "output_type": "execute_result"
    }
   ],
   "source": [
    "prueba_norm=normalizar(prueba,8)\n",
    "prueba_norm"
   ]
  },
  {
   "cell_type": "code",
   "execution_count": 38,
   "metadata": {},
   "outputs": [],
   "source": [
    "# metodo para determinar la razon de coincidencia de la representacion \"normalizada\" \n",
    "#con un  modelo de numero establecido\n",
    "# matriz, representacion normalizada \n",
    "# modelo del numero con el cual se quiere comparar\n",
    "def porcentaje_coincidencia(matriz,modelo):\n",
    "    count=0\n",
    "    for f in range(len(matriz)):\n",
    "        for c in range(len(matriz[f])):\n",
    "            if (matriz[f][c]==modelo[f][c]):\n",
    "                count+=1\n",
    "    return count/64"
   ]
  },
  {
   "cell_type": "code",
   "execution_count": 50,
   "metadata": {},
   "outputs": [
    {
     "name": "stdout",
     "output_type": "stream",
     "text": [
      "0.609375\n",
      "0.640625\n"
     ]
    }
   ],
   "source": [
    "print(porcentaje_coincidencia(prueba_norm,modelo_siete))\n",
    "print(porcentaje_coincidencia(prueba_norm,modelo_nueve))"
   ]
  },
  {
   "cell_type": "code",
   "execution_count": 77,
   "metadata": {},
   "outputs": [],
   "source": [
    "def obtenerMuestra ():\n",
    "    muestra={}\n",
    "    contador7=0\n",
    "    contador9=0\n",
    "    for i in range(539):\n",
    "        r=random.randint(0,1792)\n",
    "        muestra[i]=i,[digits.target[r],digits.images[r]]\n",
    "        if(digits.target[r]==7):\n",
    "            contador7+=1\n",
    "        if(digits.target[r]==9):\n",
    "            contador9+=1       \n",
    "    return muestra, contador7, contador9"
   ]
  },
  {
   "cell_type": "code",
   "execution_count": 116,
   "metadata": {},
   "outputs": [],
   "source": [
    "def posibleAceptado(matriznorm,porcentaje_aceptacion,modelo):\n",
    "    return (porcentaje_coincidencia(matriznorm,modelo)>=porcentaje_aceptacion)"
   ]
  },
  {
   "cell_type": "code",
   "execution_count": 129,
   "metadata": {},
   "outputs": [],
   "source": [
    "def evaluacion(una_muestra,reales_nueve,reales_siete,valor_inflexion,porcentaje_aceptacion):\n",
    "    tiempo_inicio= time.time()\n",
    "    estimados_siete=0\n",
    "    estimados_nueve=0\n",
    "    FP=0\n",
    "    VP=0\n",
    "    precision=0\n",
    "    for i in una_muestra:\n",
    "        valor_real=muestra.get(i)[1][0]\n",
    "        valor_estimado=-1\n",
    "        matriznorm=normalizar(muestra.get(i)[1][1],valor_inflexion)\n",
    "        #calculo la posibilidad de que sea cada numero\n",
    "        posibilidad_siete=porcentaje_coincidencia(matriznorm,modelo_siete)\n",
    "        posibilidad_nueve=porcentaje_coincidencia(matriznorm,modelo_nueve)\n",
    "        posibilidad_final=-1 \n",
    "        #tomo el de mayor posibilidad\n",
    "        if(posibilidad_siete>posibilidad_nueve):\n",
    "            posibilidad_final=posibilidad_siete\n",
    "            valor_estimado=7\n",
    "        elif(posibilidad_siete<posibilidad_nueve):\n",
    "            posibilidad_final=posibilidad_nueve\n",
    "            valor_estimado=9\n",
    "        # comparo si el de mayor posibilidad pasa el parametro de aceptacion e identifico si fue una identificacion correcta\n",
    "        if(posibilidad_final>=porcentaje_aceptacion):\n",
    "            if(valor_estimado==valor_real): # si el valor estimado es igual al real sumo a los correctos del numero correspondiente\n",
    "                if(valor_estimado==7):\n",
    "                    estimados_siete+=1\n",
    "                elif(valor_estimado==9):\n",
    "                    estimados_nueve+=1\n",
    "            else:#si el valor estimado no es igual al real fail+1\n",
    "                FP+=1\n",
    "        elif( valor_real == 7 or valor_real==9):#si el valor real era 9 o 7, pero el programa no los indentifico fail+1\n",
    "            FP+=1\n",
    "        else:\n",
    "            VP+=1\n",
    "    VP+=estimados_siete+estimados_nueve\n",
    "    precision=VP/(VP+FP)\n",
    "    tiempo_fin= time.time()\n",
    "    \n",
    "    return estimados_siete,estimados_nueve,VP,FP,precision,tiempo_inicio,tiempo_fin"
   ]
  },
  {
   "cell_type": "code",
   "execution_count": 81,
   "metadata": {},
   "outputs": [],
   "source": [
    "muestra,totalsiete,totalnueve=obtenerMuestra()   "
   ]
  },
  {
   "cell_type": "code",
   "execution_count": 194,
   "metadata": {},
   "outputs": [],
   "source": [
    "bien_estimados_siete,bien_estimados_nueve,vp,fp,precision,t_ini,t_fin=evaluacion(muestra,totalnueve,totalsiete,4,0.75)\n",
    "tiempo=t_fin-t_ini"
   ]
  },
  {
   "cell_type": "code",
   "execution_count": 195,
   "metadata": {},
   "outputs": [
    {
     "name": "stdout",
     "output_type": "stream",
     "text": [
      "Total Sietes(7) Reales: 42 \n",
      " Sietes Bien estimados: 17 \n",
      " Total nueves(9) Reales: 55 \n",
      " Nueves Bien estimados: 20 \n",
      " VP: 323\n",
      " FP: 216\n",
      " Precision: 0.5992578849721707 \n",
      " Tiempo Requerido: 0.14499950408935547\n"
     ]
    },
    {
     "data": {
      "text/plain": [
       "539"
      ]
     },
     "execution_count": 195,
     "metadata": {},
     "output_type": "execute_result"
    }
   ],
   "source": [
    "report= \"Total Sietes(7) Reales: {} \\n Sietes Bien estimados: {} \\n Total nueves(9) Reales: {} \\n Nueves Bien estimados: {} \\n VP: {}\\n FP: {}\\n Precision: {} \\n Tiempo Requerido: {}\".format(totalsiete,bien_estimados_siete,totalnueve,bien_estimados_nueve,vp,fp,precision,tiempo)\n",
    "print(report)\n",
    "len(muestra)"
   ]
  },
  {
   "cell_type": "raw",
   "metadata": {},
   "source": []
  }
 ],
 "metadata": {
  "kernelspec": {
   "display_name": "Python 3",
   "language": "python",
   "name": "python3"
  },
  "language_info": {
   "codemirror_mode": {
    "name": "ipython",
    "version": 3
   },
   "file_extension": ".py",
   "mimetype": "text/x-python",
   "name": "python",
   "nbconvert_exporter": "python",
   "pygments_lexer": "ipython3",
   "version": "3.7.3"
  }
 },
 "nbformat": 4,
 "nbformat_minor": 2
}
